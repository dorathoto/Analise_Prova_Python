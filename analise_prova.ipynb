{
 "cells": [
  {
   "cell_type": "code",
   "execution_count": 27,
   "metadata": {},
   "outputs": [],
   "source": [
    "## pip install openpyxl\n",
    "## pip install Genderize\n",
    "## pip install gender-guesser-br\n",
    "## pip install seaborn\n",
    "\n",
    "## pip install openpyxl && pip install Genderize && pip install gender-guesser-br && pip install seaborn"
   ]
  },
  {
   "cell_type": "code",
   "execution_count": 28,
   "metadata": {},
   "outputs": [],
   "source": [
    "import pandas as pd\n",
    "from genderize import Genderize\n",
    "from gender_guesser_br import Genero\n",
    "import seaborn as sns\n",
    "import matplotlib.pyplot as plt\n",
    "import os\n",
    "import plotly.express as px\n"
   ]
  },
  {
   "cell_type": "code",
   "execution_count": 29,
   "metadata": {},
   "outputs": [],
   "source": [
    "media = 7"
   ]
  },
  {
   "cell_type": "markdown",
   "metadata": {},
   "source": [
    "## Tratamento e Importação dos Dados"
   ]
  },
  {
   "cell_type": "code",
   "execution_count": 30,
   "metadata": {},
   "outputs": [
    {
     "name": "stdout",
     "output_type": "stream",
     "text": [
      "Arquivo já tratado? True\n"
     ]
    },
    {
     "data": {
      "text/plain": [
       "(85, 4)"
      ]
     },
     "execution_count": 30,
     "metadata": {},
     "output_type": "execute_result"
    }
   ],
   "source": [
    "arquivo_ja_tratato = False\n",
    "if os.path.exists('notas_alunos_com_genero.xlsx'):\n",
    "     df = pd.read_excel('notas_alunos_com_genero.xlsx')\n",
    "     arquivo_ja_tratato = True\n",
    "else:\n",
    "     df = pd.read_excel('alunos_nota.xlsx')\n",
    "\n",
    "print(f'Arquivo já tratado? {arquivo_ja_tratato}')\n",
    "df = df[df['Avaliação Bimestral 2024'].notnull()] #removendo quem não fez a prova\n",
    "\n",
    "df.shape"
   ]
  },
  {
   "cell_type": "code",
   "execution_count": null,
   "metadata": {},
   "outputs": [],
   "source": [
    "df"
   ]
  },
  {
   "cell_type": "code",
   "execution_count": 32,
   "metadata": {},
   "outputs": [],
   "source": [
    "def identificar_genero(nome):\n",
    "    primeiro_nome = nome.split(' ')[0]\n",
    "\n",
    "    if primeiro_nome in ['ALISON','ALISSON','ANTUANE']:\n",
    "        return 'male'\n",
    "    if primeiro_nome[-1]=='a' or primeiro_nome[-1]=='e':\n",
    "        return 'female'\n",
    "    if primeiro_nome[-1]=='o':\n",
    "        return 'male'\n",
    "\n",
    "    try:\n",
    "        gender = Genderize().get(primeiro_nome) \n",
    "        return gender[0]['gender'] if gender[0]['gender'] else 'Indefinido'\n",
    "    except Exception as inst:\n",
    "        #print(inst)    # the exception type\n",
    "        tipo = Genero(nome=primeiro_nome)\n",
    "        if tipo() == 'masculino':\n",
    "            return 'male'\n",
    "        elif tipo() == 'feminino':\n",
    "            return 'female'\n",
    "        else:   \n",
    "            return 'Indefinido'"
   ]
  },
  {
   "cell_type": "code",
   "execution_count": 33,
   "metadata": {},
   "outputs": [],
   "source": [
    "# Vai consultar online o genero dos nomes, demora uns 40s\n",
    "if(arquivo_ja_tratato == False):\n",
    "    df['Genero'] = df['Nome'].apply(identificar_genero)\n"
   ]
  },
  {
   "cell_type": "markdown",
   "metadata": {},
   "source": [
    "## Estatística Descritiva"
   ]
  },
  {
   "cell_type": "code",
   "execution_count": 34,
   "metadata": {},
   "outputs": [],
   "source": [
    "if(arquivo_ja_tratato == False):\n",
    "    df.to_excel('notas_alunos_com_genero.xlsx', index=False)"
   ]
  },
  {
   "cell_type": "code",
   "execution_count": 35,
   "metadata": {},
   "outputs": [],
   "source": [
    "# Calcular porcentagem de homens e mulheres no total\n",
    "homens = df[df['Genero'] == 'male']\n",
    "mulheres = df[df['Genero'] == 'female']\n",
    "# Calcular porcentagem de homens e mulheres no total\n",
    "total_homens = len(homens)\n",
    "total_mulheres = len(mulheres)\n",
    "total_geral = len(df)\n",
    "\n",
    "porcentagem_homens = (total_homens / total_geral) * 100\n",
    "porcentagem_mulheres = (total_mulheres / total_geral) * 100"
   ]
  },
  {
   "cell_type": "code",
   "execution_count": 36,
   "metadata": {},
   "outputs": [
    {
     "name": "stdout",
     "output_type": "stream",
     "text": [
      "Porcentagem homens 87.05882352941177\n",
      "Porcentagem mulheres 12.941176470588237\n"
     ]
    }
   ],
   "source": [
    "print(f'Porcentagem homens {porcentagem_homens}')\n",
    "print(f'Porcentagem mulheres {porcentagem_mulheres}')"
   ]
  },
  {
   "cell_type": "code",
   "execution_count": 52,
   "metadata": {},
   "outputs": [
    {
     "name": "stdout",
     "output_type": "stream",
     "text": [
      "Homens acima da média 7 39\n",
      "Mulheres acima da média 7 6\n",
      "Porcentagem de homens acima da média 7 52.702702702702695\n",
      "Porcentagem de mulheres acima da média 7 54.54545454545454\n"
     ]
    }
   ],
   "source": [
    "# Calcular quantos homens e mulheres tiraram nota >= 7\n",
    "homens_acima_media = len(homens[homens['Avaliação Bimestral 2024'] >= media])\n",
    "mulheres_acima_media = len(mulheres[mulheres['Avaliação Bimestral 2024'] >= media])\n",
    "print(f'Homens acima da média 7 {homens_acima_media}')\n",
    "print(f'Mulheres acima da média 7 {mulheres_acima_media}')\n",
    "\n",
    "# Calcular porcentagem de homens e mulheres com nota >= 7 dentro de seus respectivos grupos\n",
    "porcentagem_homens_acima_media = (homens_acima_media / total_homens) * 100 if total_homens > 0 else 0\n",
    "porcentagem_mulheres_acima_media = (mulheres_acima_media / total_mulheres) * 100 if total_mulheres > 0 else 0\n",
    "print(f'Porcentagem de homens acima da média 7 {porcentagem_homens_acima_media}')\n",
    "print(f'Porcentagem de mulheres acima da média 7 {porcentagem_mulheres_acima_media}')"
   ]
  },
  {
   "cell_type": "code",
   "execution_count": 38,
   "metadata": {},
   "outputs": [
    {
     "name": "stdout",
     "output_type": "stream",
     "text": [
      "Média: 6.176470588235294, Mediana: 6.5, Moda: 7.0\n"
     ]
    }
   ],
   "source": [
    "#média, mediana e moda das notas\n",
    "media_nota = df['Avaliação Bimestral 2024'].mean()\n",
    "mediana_nota = df['Avaliação Bimestral 2024'].median()\n",
    "moda_nota = df['Avaliação Bimestral 2024'].mode()[0]\n",
    "\n",
    "print(f\"Média: {media_nota}, Mediana: {mediana_nota}, Moda: {moda_nota}\")"
   ]
  },
  {
   "cell_type": "code",
   "execution_count": 65,
   "metadata": {},
   "outputs": [
    {
     "name": "stdout",
     "output_type": "stream",
     "text": [
      "Alunos com nota >= média: 45\n",
      "Alunos com nota < média: 40\n"
     ]
    }
   ],
   "source": [
    "#notas acima e abaixo da média\n",
    "media = df['Avaliação Bimestral 2024'].mean()\n",
    "acima_media = len(df[df['Avaliação Bimestral 2024'] >= media])\n",
    "abaixo_media = len(df[df['Avaliação Bimestral 2024'] < media])\n",
    "\n",
    "print(f\"Alunos com nota >= média: {acima_media}\")\n",
    "print(f\"Alunos com nota < média: {abaixo_media}\")"
   ]
  },
  {
   "cell_type": "code",
   "execution_count": null,
   "metadata": {},
   "outputs": [],
   "source": [
    "# Identificando outliers usando o IQR (intervalo interquartil)\n",
    "Q1 = df['Avaliação Bimestral 2024'].quantile(0.25)\n",
    "Q3 = df['Avaliação Bimestral 2024'].quantile(0.75)\n",
    "IQR = Q3 - Q1\n",
    "\n",
    "outliers = df[(df['Avaliação Bimestral 2024'] < (Q1 - 1.5 * IQR)) | (df['Avaliação Bimestral 2024'] > (Q3 + 1.5 * IQR))]\n",
    "print(\"Outliers:\")\n",
    "print(outliers)"
   ]
  },
  {
   "cell_type": "code",
   "execution_count": null,
   "metadata": {},
   "outputs": [],
   "source": [
    "#piores notas, sort e take 5\n",
    "piores_notas = df.sort_values(by='Avaliação Bimestral 2024').head(5)\n",
    "print(piores_notas)"
   ]
  },
  {
   "cell_type": "code",
   "execution_count": null,
   "metadata": {},
   "outputs": [],
   "source": [
    "melhores_notas = df.sort_values(by='Avaliação Bimestral 2024', ascending=False).head(5)\n",
    "print(melhores_notas)"
   ]
  },
  {
   "cell_type": "markdown",
   "metadata": {},
   "source": [
    "## Gráficos e Visualizações"
   ]
  },
  {
   "cell_type": "code",
   "execution_count": 55,
   "metadata": {},
   "outputs": [
    {
     "data": {
      "image/png": "[encoded data removed]",
      "text/plain": [
       "<Figure size 700x700 with 1 Axes>"
      ]
     },
     "metadata": {},
     "output_type": "display_data"
    }
   ],
   "source": [
    "labels = ['Homens', 'Mulheres']\n",
    "sizes = [porcentagem_homens, porcentagem_mulheres]\n",
    "colors = ['#3498db', '#e74c3c']\n",
    "\n",
    "plt.figure(figsize=(7, 7))\n",
    "plt.pie(sizes, labels=labels, colors=colors, autopct='%1.1f%%', startangle=90)\n",
    "plt.title('Porcentagem de Homens e Mulheres no Total')\n",
    "plt.show()"
   ]
  },
  {
   "cell_type": "code",
   "execution_count": 58,
   "metadata": {},
   "outputs": [
    {
     "data": {
      "image/png": "[encoded data removed]",
      "text/plain": [
       "<Figure size 700x700 with 1 Axes>"
      ]
     },
     "metadata": {},
     "output_type": "display_data"
    }
   ],
   "source": [
    "# Gráfico de pizza para homens e mulheres com nota >= 7, ajustado pela proporção\n",
    "labels_acima_media = ['Homens >= 7', 'Mulheres >= 7']\n",
    "sizes_acima_media = [porcentagem_homens_acima_media, porcentagem_mulheres_acima_media]\n",
    "colors_acima_media = ['#2980b9', '#c0392b']\n",
    "\n",
    "plt.figure(figsize=(7, 7))\n",
    "plt.pie(sizes_acima_media, labels=labels_acima_media, colors=colors_acima_media, autopct='%1.1f%%', startangle=90)\n",
    "plt.title('Porcentagem de Homens e Mulheres com Nota >= 7')\n",
    "plt.show()"
   ]
  },
  {
   "cell_type": "code",
   "execution_count": 59,
   "metadata": {},
   "outputs": [
    {
     "data": {
      "image/png": "[encoded data removed]",
      "text/plain": [
       "<Figure size 700x700 with 1 Axes>"
      ]
     },
     "metadata": {},
     "output_type": "display_data"
    }
   ],
   "source": [
    "# Filtrar alunos que tiraram nota 10 e contar por gênero\n",
    "genero_nota_10 = df[df['Avaliação Bimestral 2024'] ==10]['Genero'].value_counts(normalize=True) * 100\n",
    "\n",
    "# Gráfico de pizza\n",
    "plt.figure(figsize=(7, 7))\n",
    "plt.pie(genero_nota_10, labels=genero_nota_10.index, autopct='%1.1f%%', colors=['#3498db', '#e74c3c'], startangle=90)\n",
    "plt.title('Distribuição de Gênero entre Alunos que Tiraram Nota 10')\n",
    "plt.show()"
   ]
  },
  {
   "cell_type": "code",
   "execution_count": 60,
   "metadata": {},
   "outputs": [
    {
     "data": {
      "image/png": "[encoded data removed]",
      "text/plain": [
       "<Figure size 800x600 with 1 Axes>"
      ]
     },
     "metadata": {},
     "output_type": "display_data"
    }
   ],
   "source": [
    "plt.figure(figsize=(8, 6))\n",
    "sns.histplot(df['Avaliação Bimestral 2024'], bins=10, kde=True, color='blue')\n",
    "plt.title('Distribuição das Notas')\n",
    "plt.xlabel('Nota')\n",
    "plt.ylabel('Frequência')\n",
    "plt.show()"
   ]
  },
  {
   "cell_type": "code",
   "execution_count": 61,
   "metadata": {},
   "outputs": [
    {
     "data": {
      "image/png": "[encoded data removed]",
      "text/plain": [
       "<Figure size 700x700 with 1 Axes>"
      ]
     },
     "metadata": {},
     "output_type": "display_data"
    }
   ],
   "source": [
    "nota_maior_7_igual = len(df[df['Avaliação Bimestral 2024'] >= media])\n",
    "nota_menor_7 = len(df[df['Avaliação Bimestral 2024'] < media])\n",
    "\n",
    "# Dados para o gráfico\n",
    "labels_nota_7 = ['Nota >= 7', 'Nota < 7']\n",
    "sizes_nota_7 = [nota_maior_7_igual, nota_menor_7]\n",
    "colors_nota_7 = ['#3498db', '#e74c3c']\n",
    "\n",
    "# Gráfico de pizza\n",
    "plt.figure(figsize=(7, 7))\n",
    "plt.pie(sizes_nota_7, labels=labels_nota_7, colors=colors_nota_7, autopct='%1.1f%%', startangle=90)\n",
    "plt.title('Distribuição de Alunos com Notas acima e abaixo de 7')\n",
    "plt.show()"
   ]
  },
  {
   "cell_type": "code",
   "execution_count": 62,
   "metadata": {},
   "outputs": [
    {
     "data": {
      "application/vnd.plotly.v1+json": {
       "config": {
        "plotlyServerURL": "https://plot.ly"
       },
       "data": [
        {
         "branchvalues": "total",
         "customdata": [
          [
           6
          ],
          [
           19
          ],
          [
           37
          ],
          [
           18
          ],
          [
           3
          ],
          [
           2
          ]
         ],
         "domain": {
          "x": [
           0,
           1
          ],
          "y": [
           0,
           1
          ]
         },
         "hovertemplate": "labels=%{label}<br>Número de Alunos_sum=%{value}<br>parent=%{parent}<br>id=%{id}<br>Número de Alunos=%{color}<extra></extra>",
         "ids": [
          "0-3",
          "3-5",
          "5-7",
          "7-8.5",
          "8.5-9",
          "9-10"
         ],
         "labels": [
          "0-3",
          "3-5",
          "5-7",
          "7-8.5",
          "8.5-9",
          "9-10"
         ],
         "marker": {
          "coloraxis": "coloraxis",
          "colors": [
           6,
           19,
           37,
           18,
           3,
           2
          ]
         },
         "name": "",
         "parents": [
          "",
          "",
          "",
          "",
          "",
          ""
         ],
         "type": "treemap",
         "values": [
          6,
          19,
          37,
          18,
          3,
          2
         ]
        }
       ],
       "layout": {
        "coloraxis": {
         "colorbar": {
          "title": {
           "text": "Número de Alunos"
          }
         },
         "colorscale": [
          [
           0,
           "#440154"
          ],
          [
           0.1111111111111111,
           "#482878"
          ],
          [
           0.2222222222222222,
           "#3e4989"
          ],
          [
           0.3333333333333333,
           "#31688e"
          ],
          [
           0.4444444444444444,
           "#26828e"
          ],
          [
           0.5555555555555556,
           "#1f9e89"
          ],
          [
           0.6666666666666666,
           "#35b779"
          ],
          [
           0.7777777777777778,
           "#6ece58"
          ],
          [
           0.8888888888888888,
           "#b5de2b"
          ],
          [
           1,
           "#fde725"
          ]
         ]
        },
        "legend": {
         "tracegroupgap": 0
        },
        "template": {
         "data": {
          "bar": [
           {
            "error_x": {
             "color": "#2a3f5f"
            },
            "error_y": {
             "color": "#2a3f5f"
            },
            "marker": {
             "line": {
              "color": "#E5ECF6",
              "width": 0.5
             },
             "pattern": {
              "fillmode": "overlay",
              "size": 10,
              "solidity": 0.2
             }
            },
            "type": "bar"
           }
          ],
          "barpolar": [
           {
            "marker": {
             "line": {
              "color": "#E5ECF6",
              "width": 0.5
             },
             "pattern": {
              "fillmode": "overlay",
              "size": 10,
              "solidity": 0.2
             }
            },
            "type": "barpolar"
           }
          ],
          "carpet": [
           {
            "aaxis": {
             "endlinecolor": "#2a3f5f",
             "gridcolor": "white",
             "linecolor": "white",
             "minorgridcolor": "white",
             "startlinecolor": "#2a3f5f"
            },
            "baxis": {
             "endlinecolor": "#2a3f5f",
             "gridcolor": "white",
             "linecolor": "white",
             "minorgridcolor": "white",
             "startlinecolor": "#2a3f5f"
            },
            "type": "carpet"
           }
          ],
          "choropleth": [
           {
            "colorbar": {
             "outlinewidth": 0,
             "ticks": ""
            },
            "type": "choropleth"
           }
          ],
          "contour": [
           {
            "colorbar": {
             "outlinewidth": 0,
             "ticks": ""
            },
            "colorscale": [
             [
              0,
              "#0d0887"
             ],
             [
              0.1111111111111111,
              "#46039f"
             ],
             [
              0.2222222222222222,
              "#7201a8"
             ],
             [
              0.3333333333333333,
              "#9c179e"
             ],
             [
              0.4444444444444444,
              "#bd3786"
             ],
             [
              0.5555555555555556,
              "#d8576b"
             ],
             [
              0.6666666666666666,
              "#ed7953"
             ],
             [
              0.7777777777777778,
              "#fb9f3a"
             ],
             [
              0.8888888888888888,
              "#fdca26"
             ],
             [
              1,
              "#f0f921"
             ]
            ],
            "type": "contour"
           }
          ],
          "contourcarpet": [
           {
            "colorbar": {
             "outlinewidth": 0,
             "ticks": ""
            },
            "type": "contourcarpet"
           }
          ],
          "heatmap": [
           {
            "colorbar": {
             "outlinewidth": 0,
             "ticks": ""
            },
            "colorscale": [
             [
              0,
              "#0d0887"
             ],
             [
              0.1111111111111111,
              "#46039f"
             ],
             [
              0.2222222222222222,
              "#7201a8"
             ],
             [
              0.3333333333333333,
              "#9c179e"
             ],
             [
              0.4444444444444444,
              "#bd3786"
             ],
             [
              0.5555555555555556,
              "#d8576b"
             ],
             [
              0.6666666666666666,
              "#ed7953"
             ],
             [
              0.7777777777777778,
              "#fb9f3a"
             ],
             [
              0.8888888888888888,
              "#fdca26"
             ],
             [
              1,
              "#f0f921"
             ]
            ],
            "type": "heatmap"
           }
          ],
          "heatmapgl": [
           {
            "colorbar": {
             "outlinewidth": 0,
             "ticks": ""
            },
            "colorscale": [
             [
              0,
              "#0d0887"
             ],
             [
              0.1111111111111111,
              "#46039f"
             ],
             [
              0.2222222222222222,
              "#7201a8"
             ],
             [
              0.3333333333333333,
              "#9c179e"
             ],
             [
              0.4444444444444444,
              "#bd3786"
             ],
             [
              0.5555555555555556,
              "#d8576b"
             ],
             [
              0.6666666666666666,
              "#ed7953"
             ],
             [
              0.7777777777777778,
              "#fb9f3a"
             ],
             [
              0.8888888888888888,
              "#fdca26"
             ],
             [
              1,
              "#f0f921"
             ]
            ],
            "type": "heatmapgl"
           }
          ],
          "histogram": [
           {
            "marker": {
             "pattern": {
              "fillmode": "overlay",
              "size": 10,
              "solidity": 0.2
             }
            },
            "type": "histogram"
           }
          ],
          "histogram2d": [
           {
            "colorbar": {
             "outlinewidth": 0,
             "ticks": ""
            },
            "colorscale": [
             [
              0,
              "#0d0887"
             ],
             [
              0.1111111111111111,
              "#46039f"
             ],
             [
              0.2222222222222222,
              "#7201a8"
             ],
             [
              0.3333333333333333,
              "#9c179e"
             ],
             [
              0.4444444444444444,
              "#bd3786"
             ],
             [
              0.5555555555555556,
              "#d8576b"
             ],
             [
              0.6666666666666666,
              "#ed7953"
             ],
             [
              0.7777777777777778,
              "#fb9f3a"
             ],
             [
              0.8888888888888888,
              "#fdca26"
             ],
             [
              1,
              "#f0f921"
             ]
            ],
            "type": "histogram2d"
           }
          ],
          "histogram2dcontour": [
           {
            "colorbar": {
             "outlinewidth": 0,
             "ticks": ""
            },
            "colorscale": [
             [
              0,
              "#0d0887"
             ],
             [
              0.1111111111111111,
              "#46039f"
             ],
             [
              0.2222222222222222,
              "#7201a8"
             ],
             [
              0.3333333333333333,
              "#9c179e"
             ],
             [
              0.4444444444444444,
              "#bd3786"
             ],
             [
              0.5555555555555556,
              "#d8576b"
             ],
             [
              0.6666666666666666,
              "#ed7953"
             ],
             [
              0.7777777777777778,
              "#fb9f3a"
             ],
             [
              0.8888888888888888,
              "#fdca26"
             ],
             [
              1,
              "#f0f921"
             ]
            ],
            "type": "histogram2dcontour"
           }
          ],
          "mesh3d": [
           {
            "colorbar": {
             "outlinewidth": 0,
             "ticks": ""
            },
            "type": "mesh3d"
           }
          ],
          "parcoords": [
           {
            "line": {
             "colorbar": {
              "outlinewidth": 0,
              "ticks": ""
             }
            },
            "type": "parcoords"
           }
          ],
          "pie": [
           {
            "automargin": true,
            "type": "pie"
           }
          ],
          "scatter": [
           {
            "fillpattern": {
             "fillmode": "overlay",
             "size": 10,
             "solidity": 0.2
            },
            "type": "scatter"
           }
          ],
          "scatter3d": [
           {
            "line": {
             "colorbar": {
              "outlinewidth": 0,
              "ticks": ""
             }
            },
            "marker": {
             "colorbar": {
              "outlinewidth": 0,
              "ticks": ""
             }
            },
            "type": "scatter3d"
           }
          ],
          "scattercarpet": [
           {
            "marker": {
             "colorbar": {
              "outlinewidth": 0,
              "ticks": ""
             }
            },
            "type": "scattercarpet"
           }
          ],
          "scattergeo": [
           {
            "marker": {
             "colorbar": {
              "outlinewidth": 0,
              "ticks": ""
             }
            },
            "type": "scattergeo"
           }
          ],
          "scattergl": [
           {
            "marker": {
             "colorbar": {
              "outlinewidth": 0,
              "ticks": ""
             }
            },
            "type": "scattergl"
           }
          ],
          "scattermapbox": [
           {
            "marker": {
             "colorbar": {
              "outlinewidth": 0,
              "ticks": ""
             }
            },
            "type": "scattermapbox"
           }
          ],
          "scatterpolar": [
           {
            "marker": {
             "colorbar": {
              "outlinewidth": 0,
              "ticks": ""
             }
            },
            "type": "scatterpolar"
           }
          ],
          "scatterpolargl": [
           {
            "marker": {
             "colorbar": {
              "outlinewidth": 0,
              "ticks": ""
             }
            },
            "type": "scatterpolargl"
           }
          ],
          "scatterternary": [
           {
            "marker": {
             "colorbar": {
              "outlinewidth": 0,
              "ticks": ""
             }
            },
            "type": "scatterternary"
           }
          ],
          "surface": [
           {
            "colorbar": {
             "outlinewidth": 0,
             "ticks": ""
            },
            "colorscale": [
             [
              0,
              "#0d0887"
             ],
             [
              0.1111111111111111,
              "#46039f"
             ],
             [
              0.2222222222222222,
              "#7201a8"
             ],
             [
              0.3333333333333333,
              "#9c179e"
             ],
             [
              0.4444444444444444,
              "#bd3786"
             ],
             [
              0.5555555555555556,
              "#d8576b"
             ],
             [
              0.6666666666666666,
              "#ed7953"
             ],
             [
              0.7777777777777778,
              "#fb9f3a"
             ],
             [
              0.8888888888888888,
              "#fdca26"
             ],
             [
              1,
              "#f0f921"
             ]
            ],
            "type": "surface"
           }
          ],
          "table": [
           {
            "cells": {
             "fill": {
              "color": "#EBF0F8"
             },
             "line": {
              "color": "white"
             }
            },
            "header": {
             "fill": {
              "color": "#C8D4E3"
             },
             "line": {
              "color": "white"
             }
            },
            "type": "table"
           }
          ]
         },
         "layout": {
          "annotationdefaults": {
           "arrowcolor": "#2a3f5f",
           "arrowhead": 0,
           "arrowwidth": 1
          },
          "autotypenumbers": "strict",
          "coloraxis": {
           "colorbar": {
            "outlinewidth": 0,
            "ticks": ""
           }
          },
          "colorscale": {
           "diverging": [
            [
             0,
             "#8e0152"
            ],
            [
             0.1,
             "#c51b7d"
            ],
            [
             0.2,
             "#de77ae"
            ],
            [
             0.3,
             "#f1b6da"
            ],
            [
             0.4,
             "#fde0ef"
            ],
            [
             0.5,
             "#f7f7f7"
            ],
            [
             0.6,
             "#e6f5d0"
            ],
            [
             0.7,
             "#b8e186"
            ],
            [
             0.8,
             "#7fbc41"
            ],
            [
             0.9,
             "#4d9221"
            ],
            [
             1,
             "#276419"
            ]
           ],
           "sequential": [
            [
             0,
             "#0d0887"
            ],
            [
             0.1111111111111111,
             "#46039f"
            ],
            [
             0.2222222222222222,
             "#7201a8"
            ],
            [
             0.3333333333333333,
             "#9c179e"
            ],
            [
             0.4444444444444444,
             "#bd3786"
            ],
            [
             0.5555555555555556,
             "#d8576b"
            ],
            [
             0.6666666666666666,
             "#ed7953"
            ],
            [
             0.7777777777777778,
             "#fb9f3a"
            ],
            [
             0.8888888888888888,
             "#fdca26"
            ],
            [
             1,
             "#f0f921"
            ]
           ],
           "sequentialminus": [
            [
             0,
             "#0d0887"
            ],
            [
             0.1111111111111111,
             "#46039f"
            ],
            [
             0.2222222222222222,
             "#7201a8"
            ],
            [
             0.3333333333333333,
             "#9c179e"
            ],
            [
             0.4444444444444444,
             "#bd3786"
            ],
            [
             0.5555555555555556,
             "#d8576b"
            ],
            [
             0.6666666666666666,
             "#ed7953"
            ],
            [
             0.7777777777777778,
             "#fb9f3a"
            ],
            [
             0.8888888888888888,
             "#fdca26"
            ],
            [
             1,
             "#f0f921"
            ]
           ]
          },
          "colorway": [
           "#636efa",
           "#EF553B",
           "#00cc96",
           "#ab63fa",
           "#FFA15A",
           "#19d3f3",
           "#FF6692",
           "#B6E880",
           "#FF97FF",
           "#FECB52"
          ],
          "font": {
           "color": "#2a3f5f"
          },
          "geo": {
           "bgcolor": "white",
           "lakecolor": "white",
           "landcolor": "#E5ECF6",
           "showlakes": true,
           "showland": true,
           "subunitcolor": "white"
          },
          "hoverlabel": {
           "align": "left"
          },
          "hovermode": "closest",
          "mapbox": {
           "style": "light"
          },
          "paper_bgcolor": "white",
          "plot_bgcolor": "#E5ECF6",
          "polar": {
           "angularaxis": {
            "gridcolor": "white",
            "linecolor": "white",
            "ticks": ""
           },
           "bgcolor": "#E5ECF6",
           "radialaxis": {
            "gridcolor": "white",
            "linecolor": "white",
            "ticks": ""
           }
          },
          "scene": {
           "xaxis": {
            "backgroundcolor": "#E5ECF6",
            "gridcolor": "white",
            "gridwidth": 2,
            "linecolor": "white",
            "showbackground": true,
            "ticks": "",
            "zerolinecolor": "white"
           },
           "yaxis": {
            "backgroundcolor": "#E5ECF6",
            "gridcolor": "white",
            "gridwidth": 2,
            "linecolor": "white",
            "showbackground": true,
            "ticks": "",
            "zerolinecolor": "white"
           },
           "zaxis": {
            "backgroundcolor": "#E5ECF6",
            "gridcolor": "white",
            "gridwidth": 2,
            "linecolor": "white",
            "showbackground": true,
            "ticks": "",
            "zerolinecolor": "white"
           }
          },
          "shapedefaults": {
           "line": {
            "color": "#2a3f5f"
           }
          },
          "ternary": {
           "aaxis": {
            "gridcolor": "white",
            "linecolor": "white",
            "ticks": ""
           },
           "baxis": {
            "gridcolor": "white",
            "linecolor": "white",
            "ticks": ""
           },
           "bgcolor": "#E5ECF6",
           "caxis": {
            "gridcolor": "white",
            "linecolor": "white",
            "ticks": ""
           }
          },
          "title": {
           "x": 0.05
          },
          "xaxis": {
           "automargin": true,
           "gridcolor": "white",
           "linecolor": "white",
           "ticks": "",
           "title": {
            "standoff": 15
           },
           "zerolinecolor": "white",
           "zerolinewidth": 2
          },
          "yaxis": {
           "automargin": true,
           "gridcolor": "white",
           "linecolor": "white",
           "ticks": "",
           "title": {
            "standoff": 15
           },
           "zerolinecolor": "white",
           "zerolinewidth": 2
          }
         }
        },
        "title": {
         "text": "Treemap de Notas dos Alunos (Avaliação Bimestral 2024)"
        }
       }
      }
     },
     "metadata": {},
     "output_type": "display_data"
    }
   ],
   "source": [
    "# TreeMap das notas\n",
    "bins = [0, 3, 5, 7, 8.5, 9, 10]\n",
    "labels = ['0-3', '3-5', '5-7', '7-8.5', '8.5-9', '9-10']  # Rótulos para os bins\n",
    "\n",
    "df['Faixa de Nota'] = pd.cut(df['Avaliação Bimestral 2024'], bins=bins, labels=labels)\n",
    "# Contar a quantidade de alunos em cada faixa de nota\n",
    "df_faixa = df['Faixa de Nota'].value_counts().reset_index()\n",
    "df_faixa.columns = ['Faixa de Nota', 'Número de Alunos']\n",
    "\n",
    "fig = px.treemap(df_faixa, \n",
    "                 path=['Faixa de Nota'], \n",
    "                 values='Número de Alunos', \n",
    "                 title=\"Treemap de Notas dos Alunos (Avaliação Bimestral 2024)\",\n",
    "                 color='Número de Alunos',\n",
    "                 color_continuous_scale='Viridis')\n",
    "\n",
    "fig.show()"
   ]
  },
  {
   "cell_type": "code",
   "execution_count": 63,
   "metadata": {},
   "outputs": [
    {
     "data": {
      "image/png": "[encoded data removed]",
      "text/plain": [
       "<Figure size 800x600 with 1 Axes>"
      ]
     },
     "metadata": {},
     "output_type": "display_data"
    }
   ],
   "source": [
    "plt.figure(figsize=(8, 6))\n",
    "sns.boxplot(x='Genero', y='Avaliação Bimestral 2024', data=df)\n",
    "plt.title('Distribuição das Notas por Gênero')\n",
    "plt.xlabel('Gênero')\n",
    "plt.ylabel('Nota')\n",
    "plt.show()"
   ]
  }
 ],
 "metadata": {
  "kernelspec": {
   "display_name": "Python 3",
   "language": "python",
   "name": "python3"
  },
  "language_info": {
   "codemirror_mode": {
    "name": "ipython",
    "version": 3
   },
   "file_extension": ".py",
   "mimetype": "text/x-python",
   "name": "python",
   "nbconvert_exporter": "python",
   "pygments_lexer": "ipython3",
   "version": "3.11.3"
  }
 },
 "nbformat": 4,
 "nbformat_minor": 2
}
